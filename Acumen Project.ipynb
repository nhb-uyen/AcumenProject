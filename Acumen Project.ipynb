{
 "cells": [
  {
   "cell_type": "code",
   "execution_count": 1,
   "metadata": {},
   "outputs": [
    {
     "name": "stdout",
     "output_type": "stream",
     "text": [
      "       Observation Number  Quarter  Employee Id Sex (Male=1) Race  Age  \\\n",
      "0                       1        1            1            0    3   27   \n",
      "1                       2        2            1            0    3   28   \n",
      "2                       3        3            1            0    3   28   \n",
      "3                       4        4            1            0    3   28   \n",
      "4                       5        5            1            0    3   29   \n",
      "...                   ...      ...          ...          ...  ...  ...   \n",
      "19098               19099        8         2000                 1   28   \n",
      "19099               19100        9         2000                 1   28   \n",
      "19100               19101       10         2000                 1   28   \n",
      "19101               19102       11         2000                 1   28   \n",
      "19102               19103       12         2000                 1   29   \n",
      "\n",
      "       Hospital Visit This Quarter (1=Yes)   Salary  Health Score  \n",
      "0                                        0  $36,907           3.7  \n",
      "1                                        0  $37,907           5.0  \n",
      "2                                        0  $38,907           4.0  \n",
      "3                                        0  $39,907           2.3  \n",
      "4                                        0  $40,907           2.1  \n",
      "...                                    ...      ...           ...  \n",
      "19098                                    0  $59,905          10.0  \n",
      "19099                                    1  $60,905          10.0  \n",
      "19100                                    0  $61,905          10.0  \n",
      "19101                                    0  $62,905          10.0  \n",
      "19102                                    0  $63,905          10.0  \n",
      "\n",
      "[19103 rows x 9 columns]\n"
     ]
    }
   ],
   "source": [
    "# Load data, filter NAs\n",
    "\n",
    "import numpy as np\n",
    "import pandas as pd\n",
    "import matplotlib.pyplot as plt\n",
    "import csv\n",
    "import os\n",
    "os.listdir()\n",
    "os.getcwd()\n",
    "os.chdir('C:\\\\Users\\\\THIEN\\\\Downloads')\n",
    "with open('acumen_project_data.csv', newline='') as csvfile:\n",
    "    df = csv.reader(csvfile, delimiter=' ',quotechar='|')\n",
    "    df = pd.read_csv(csvfile, header=0)\n",
    "    df = df.fillna(' ')\n",
    "\n",
    "print(df)"
   ]
  },
  {
   "cell_type": "code",
   "execution_count": 2,
   "metadata": {},
   "outputs": [
    {
     "data": {
      "text/plain": [
       "False"
      ]
     },
     "execution_count": 2,
     "metadata": {},
     "output_type": "execute_result"
    }
   ],
   "source": [
    "#check to see if all NAs were cleared\n",
    "df.isnull().values.any()"
   ]
  },
  {
   "cell_type": "code",
   "execution_count": 3,
   "metadata": {},
   "outputs": [
    {
     "name": "stdout",
     "output_type": "stream",
     "text": [
      "<class 'pandas.core.frame.DataFrame'>\n",
      "RangeIndex: 19103 entries, 0 to 19102\n",
      "Data columns (total 9 columns):\n",
      " #   Column                               Non-Null Count  Dtype  \n",
      "---  ------                               --------------  -----  \n",
      " 0   Observation Number                   19103 non-null  int64  \n",
      " 1   Quarter                              19103 non-null  int64  \n",
      " 2   Employee Id                          19103 non-null  int64  \n",
      " 3   Sex (Male=1)                         19103 non-null  object \n",
      " 4   Race                                 19103 non-null  object \n",
      " 5   Age                                  19103 non-null  int64  \n",
      " 6   Hospital Visit This Quarter (1=Yes)  19103 non-null  int64  \n",
      " 7   Salary                               19103 non-null  object \n",
      " 8   Health Score                         19103 non-null  float64\n",
      "dtypes: float64(1), int64(5), object(3)\n",
      "memory usage: 1.3+ MB\n"
     ]
    },
    {
     "data": {
      "text/html": [
       "<div>\n",
       "<style scoped>\n",
       "    .dataframe tbody tr th:only-of-type {\n",
       "        vertical-align: middle;\n",
       "    }\n",
       "\n",
       "    .dataframe tbody tr th {\n",
       "        vertical-align: top;\n",
       "    }\n",
       "\n",
       "    .dataframe thead th {\n",
       "        text-align: right;\n",
       "    }\n",
       "</style>\n",
       "<table border=\"1\" class=\"dataframe\">\n",
       "  <thead>\n",
       "    <tr style=\"text-align: right;\">\n",
       "      <th></th>\n",
       "      <th>Observation Number</th>\n",
       "      <th>Quarter</th>\n",
       "      <th>Employee Id</th>\n",
       "      <th>Age</th>\n",
       "      <th>Hospital Visit This Quarter (1=Yes)</th>\n",
       "      <th>Health Score</th>\n",
       "    </tr>\n",
       "  </thead>\n",
       "  <tbody>\n",
       "    <tr>\n",
       "      <th>count</th>\n",
       "      <td>19103.000000</td>\n",
       "      <td>19103.000000</td>\n",
       "      <td>19103.000000</td>\n",
       "      <td>19103.000000</td>\n",
       "      <td>19103.000000</td>\n",
       "      <td>19103.000000</td>\n",
       "    </tr>\n",
       "    <tr>\n",
       "      <th>mean</th>\n",
       "      <td>9552.000000</td>\n",
       "      <td>7.342826</td>\n",
       "      <td>998.012249</td>\n",
       "      <td>30.592263</td>\n",
       "      <td>0.111448</td>\n",
       "      <td>3.588379</td>\n",
       "    </tr>\n",
       "    <tr>\n",
       "      <th>std</th>\n",
       "      <td>5514.705432</td>\n",
       "      <td>3.166792</td>\n",
       "      <td>577.313902</td>\n",
       "      <td>7.018862</td>\n",
       "      <td>0.314695</td>\n",
       "      <td>1.985285</td>\n",
       "    </tr>\n",
       "    <tr>\n",
       "      <th>min</th>\n",
       "      <td>1.000000</td>\n",
       "      <td>1.000000</td>\n",
       "      <td>1.000000</td>\n",
       "      <td>7.000000</td>\n",
       "      <td>0.000000</td>\n",
       "      <td>0.600000</td>\n",
       "    </tr>\n",
       "    <tr>\n",
       "      <th>25%</th>\n",
       "      <td>4776.500000</td>\n",
       "      <td>5.000000</td>\n",
       "      <td>498.000000</td>\n",
       "      <td>26.000000</td>\n",
       "      <td>0.000000</td>\n",
       "      <td>2.400000</td>\n",
       "    </tr>\n",
       "    <tr>\n",
       "      <th>50%</th>\n",
       "      <td>9552.000000</td>\n",
       "      <td>8.000000</td>\n",
       "      <td>996.000000</td>\n",
       "      <td>29.000000</td>\n",
       "      <td>0.000000</td>\n",
       "      <td>3.100000</td>\n",
       "    </tr>\n",
       "    <tr>\n",
       "      <th>75%</th>\n",
       "      <td>14327.500000</td>\n",
       "      <td>10.000000</td>\n",
       "      <td>1498.000000</td>\n",
       "      <td>32.000000</td>\n",
       "      <td>0.000000</td>\n",
       "      <td>4.100000</td>\n",
       "    </tr>\n",
       "    <tr>\n",
       "      <th>max</th>\n",
       "      <td>19103.000000</td>\n",
       "      <td>12.000000</td>\n",
       "      <td>2000.000000</td>\n",
       "      <td>172.000000</td>\n",
       "      <td>1.000000</td>\n",
       "      <td>10.000000</td>\n",
       "    </tr>\n",
       "  </tbody>\n",
       "</table>\n",
       "</div>"
      ],
      "text/plain": [
       "       Observation Number       Quarter   Employee Id           Age  \\\n",
       "count        19103.000000  19103.000000  19103.000000  19103.000000   \n",
       "mean          9552.000000      7.342826    998.012249     30.592263   \n",
       "std           5514.705432      3.166792    577.313902      7.018862   \n",
       "min              1.000000      1.000000      1.000000      7.000000   \n",
       "25%           4776.500000      5.000000    498.000000     26.000000   \n",
       "50%           9552.000000      8.000000    996.000000     29.000000   \n",
       "75%          14327.500000     10.000000   1498.000000     32.000000   \n",
       "max          19103.000000     12.000000   2000.000000    172.000000   \n",
       "\n",
       "       Hospital Visit This Quarter (1=Yes)  Health Score  \n",
       "count                         19103.000000  19103.000000  \n",
       "mean                              0.111448      3.588379  \n",
       "std                               0.314695      1.985285  \n",
       "min                               0.000000      0.600000  \n",
       "25%                               0.000000      2.400000  \n",
       "50%                               0.000000      3.100000  \n",
       "75%                               0.000000      4.100000  \n",
       "max                               1.000000     10.000000  "
      ]
     },
     "execution_count": 3,
     "metadata": {},
     "output_type": "execute_result"
    }
   ],
   "source": [
    "#inspect data\n",
    "df.info()\n",
    "df.describe()\n"
   ]
  },
  {
   "cell_type": "code",
   "execution_count": 4,
   "metadata": {},
   "outputs": [
    {
     "data": {
      "text/plain": [
       "Quarter\n",
       "1      684\n",
       "2      891\n",
       "3     1139\n",
       "4     1448\n",
       "5     1671\n",
       "6     1775\n",
       "7     1850\n",
       "8     1885\n",
       "9     1914\n",
       "10    1934\n",
       "11    1950\n",
       "12    1962\n",
       "dtype: int64"
      ]
     },
     "execution_count": 4,
     "metadata": {},
     "output_type": "execute_result"
    }
   ],
   "source": [
    "df.groupby('Quarter').size()"
   ]
  },
  {
   "cell_type": "code",
   "execution_count": 5,
   "metadata": {},
   "outputs": [
    {
     "data": {
      "text/plain": [
       "<matplotlib.axes._subplots.AxesSubplot at 0x1d10645d160>"
      ]
     },
     "execution_count": 5,
     "metadata": {},
     "output_type": "execute_result"
    },
    {
     "data": {
      "image/png": "[encoded data removed]",
      "text/plain": [
       "<Figure size 432x288 with 1 Axes>"
      ]
     },
     "metadata": {
      "needs_background": "light"
     },
     "output_type": "display_data"
    }
   ],
   "source": [
    "#create a data frame of those with Health Score above 3\n",
    "sick =df[df['Health Score'] >3 ]\n",
    "#group that by quarter\n",
    "#count the unique employee id within that data frame\n",
    "sick_count_by_qt = sick.groupby('Quarter').size()\n",
    "#Calculate ratio of people getting sick by quarter\n",
    "total_employees=len(df['Employee Id'].unique())\n",
    "sick_progression=sick_count_by_qt/total_employees *100\n",
    "sick_progression.plot.line()"
   ]
  },
  {
   "cell_type": "code",
   "execution_count": 6,
   "metadata": {},
   "outputs": [
    {
     "data": {
      "text/plain": [
       "Quarter\n",
       "1    19.266055\n",
       "2    23.190622\n",
       "3    29.561672\n",
       "4    37.563710\n",
       "5    42.507645\n",
       "dtype: float64"
      ]
     },
     "execution_count": 6,
     "metadata": {},
     "output_type": "execute_result"
    },
    {
     "data": {
      "image/png": "[encoded data removed]",
      "text/plain": [
       "<Figure size 432x288 with 1 Axes>"
      ]
     },
     "metadata": {
      "needs_background": "light"
     },
     "output_type": "display_data"
    }
   ],
   "source": [
    "#create a data frame of those with Health Score above 3\n",
    "healthy =df[df['Health Score'] <=3 ]\n",
    "#group that by quarter\n",
    "#count the unique employee id within that data frame\n",
    "healthy_count_by_qt = healthy.groupby('Quarter').size()\n",
    "#Calculate ratio of people getting sick by quarter\n",
    "healthy_progression=healthy_count_by_qt/total_employees *100\n",
    "healthy_progression.plot.line()\n",
    "healthy_progression.head()"
   ]
  },
  {
   "cell_type": "code",
   "execution_count": 7,
   "metadata": {},
   "outputs": [
    {
     "data": {
      "text/html": [
       "<div>\n",
       "<style scoped>\n",
       "    .dataframe tbody tr th:only-of-type {\n",
       "        vertical-align: middle;\n",
       "    }\n",
       "\n",
       "    .dataframe tbody tr th {\n",
       "        vertical-align: top;\n",
       "    }\n",
       "\n",
       "    .dataframe thead th {\n",
       "        text-align: right;\n",
       "    }\n",
       "</style>\n",
       "<table border=\"1\" class=\"dataframe\">\n",
       "  <thead>\n",
       "    <tr style=\"text-align: right;\">\n",
       "      <th></th>\n",
       "      <th>healthy_progression</th>\n",
       "    </tr>\n",
       "    <tr>\n",
       "      <th>Quarter</th>\n",
       "      <th></th>\n",
       "    </tr>\n",
       "  </thead>\n",
       "  <tbody>\n",
       "    <tr>\n",
       "      <th>1</th>\n",
       "      <td>19.266055</td>\n",
       "    </tr>\n",
       "    <tr>\n",
       "      <th>2</th>\n",
       "      <td>23.190622</td>\n",
       "    </tr>\n",
       "    <tr>\n",
       "      <th>3</th>\n",
       "      <td>29.561672</td>\n",
       "    </tr>\n",
       "    <tr>\n",
       "      <th>4</th>\n",
       "      <td>37.563710</td>\n",
       "    </tr>\n",
       "    <tr>\n",
       "      <th>5</th>\n",
       "      <td>42.507645</td>\n",
       "    </tr>\n",
       "    <tr>\n",
       "      <th>6</th>\n",
       "      <td>45.463812</td>\n",
       "    </tr>\n",
       "    <tr>\n",
       "      <th>7</th>\n",
       "      <td>43.832824</td>\n",
       "    </tr>\n",
       "    <tr>\n",
       "      <th>8</th>\n",
       "      <td>45.361876</td>\n",
       "    </tr>\n",
       "    <tr>\n",
       "      <th>9</th>\n",
       "      <td>45.616718</td>\n",
       "    </tr>\n",
       "    <tr>\n",
       "      <th>10</th>\n",
       "      <td>48.267074</td>\n",
       "    </tr>\n",
       "    <tr>\n",
       "      <th>11</th>\n",
       "      <td>44.036697</td>\n",
       "    </tr>\n",
       "    <tr>\n",
       "      <th>12</th>\n",
       "      <td>41.641182</td>\n",
       "    </tr>\n",
       "  </tbody>\n",
       "</table>\n",
       "</div>"
      ],
      "text/plain": [
       "         healthy_progression\n",
       "Quarter                     \n",
       "1                  19.266055\n",
       "2                  23.190622\n",
       "3                  29.561672\n",
       "4                  37.563710\n",
       "5                  42.507645\n",
       "6                  45.463812\n",
       "7                  43.832824\n",
       "8                  45.361876\n",
       "9                  45.616718\n",
       "10                 48.267074\n",
       "11                 44.036697\n",
       "12                 41.641182"
      ]
     },
     "execution_count": 7,
     "metadata": {},
     "output_type": "execute_result"
    }
   ],
   "source": [
    "#plot healthy and sick progression on one plot\n",
    "#put sick and healthy progression ratio series into data frame for plotting\n",
    "healthy_progression=healthy_progression.to_frame(name='healthy_progression')\n",
    "healthy_progression"
   ]
  },
  {
   "cell_type": "code",
   "execution_count": 8,
   "metadata": {},
   "outputs": [
    {
     "data": {
      "text/html": [
       "<div>\n",
       "<style scoped>\n",
       "    .dataframe tbody tr th:only-of-type {\n",
       "        vertical-align: middle;\n",
       "    }\n",
       "\n",
       "    .dataframe tbody tr th {\n",
       "        vertical-align: top;\n",
       "    }\n",
       "\n",
       "    .dataframe thead th {\n",
       "        text-align: right;\n",
       "    }\n",
       "</style>\n",
       "<table border=\"1\" class=\"dataframe\">\n",
       "  <thead>\n",
       "    <tr style=\"text-align: right;\">\n",
       "      <th></th>\n",
       "      <th>sick_progression</th>\n",
       "    </tr>\n",
       "    <tr>\n",
       "      <th>Quarter</th>\n",
       "      <th></th>\n",
       "    </tr>\n",
       "  </thead>\n",
       "  <tbody>\n",
       "    <tr>\n",
       "      <th>1</th>\n",
       "      <td>15.596330</td>\n",
       "    </tr>\n",
       "    <tr>\n",
       "      <th>2</th>\n",
       "      <td>22.222222</td>\n",
       "    </tr>\n",
       "    <tr>\n",
       "      <th>3</th>\n",
       "      <td>28.491335</td>\n",
       "    </tr>\n",
       "    <tr>\n",
       "      <th>4</th>\n",
       "      <td>36.238532</td>\n",
       "    </tr>\n",
       "    <tr>\n",
       "      <th>5</th>\n",
       "      <td>42.660550</td>\n",
       "    </tr>\n",
       "    <tr>\n",
       "      <th>6</th>\n",
       "      <td>45.005097</td>\n",
       "    </tr>\n",
       "    <tr>\n",
       "      <th>7</th>\n",
       "      <td>50.458716</td>\n",
       "    </tr>\n",
       "    <tr>\n",
       "      <th>8</th>\n",
       "      <td>50.713558</td>\n",
       "    </tr>\n",
       "    <tr>\n",
       "      <th>9</th>\n",
       "      <td>51.936799</td>\n",
       "    </tr>\n",
       "    <tr>\n",
       "      <th>10</th>\n",
       "      <td>50.305810</td>\n",
       "    </tr>\n",
       "    <tr>\n",
       "      <th>11</th>\n",
       "      <td>55.351682</td>\n",
       "    </tr>\n",
       "    <tr>\n",
       "      <th>12</th>\n",
       "      <td>58.358818</td>\n",
       "    </tr>\n",
       "  </tbody>\n",
       "</table>\n",
       "</div>"
      ],
      "text/plain": [
       "         sick_progression\n",
       "Quarter                  \n",
       "1               15.596330\n",
       "2               22.222222\n",
       "3               28.491335\n",
       "4               36.238532\n",
       "5               42.660550\n",
       "6               45.005097\n",
       "7               50.458716\n",
       "8               50.713558\n",
       "9               51.936799\n",
       "10              50.305810\n",
       "11              55.351682\n",
       "12              58.358818"
      ]
     },
     "execution_count": 8,
     "metadata": {},
     "output_type": "execute_result"
    }
   ],
   "source": [
    "sick_progression=sick_progression.to_frame(name='sick_progression')\n",
    "sick_progression"
   ]
  },
  {
   "cell_type": "code",
   "execution_count": 22,
   "metadata": {},
   "outputs": [
    {
     "data": {
      "text/plain": [
       "<matplotlib.axes._subplots.AxesSubplot at 0x1d107eda850>"
      ]
     },
     "execution_count": 22,
     "metadata": {},
     "output_type": "execute_result"
    },
    {
     "data": {
      "image/png": "[encoded data removed]",
      "text/plain": [
       "<Figure size 432x288 with 1 Axes>"
      ]
     },
     "metadata": {
      "needs_background": "light"
     },
     "output_type": "display_data"
    }
   ],
   "source": [
    "#create a plot with multiple lines\n",
    "pd.merge(healthy_progression, sick_progression,on='Quarter').plot.line()"
   ]
  },
  {
   "cell_type": "code",
   "execution_count": 21,
   "metadata": {},
   "outputs": [
    {
     "data": {
      "text/plain": [
       "<matplotlib.axes._subplots.AxesSubplot at 0x1d106be7a00>"
      ]
     },
     "execution_count": 21,
     "metadata": {},
     "output_type": "execute_result"
    },
    {
     "data": {
      "image/png": "[encoded data removed]",
      "text/plain": [
       "<Figure size 432x288 with 1 Axes>"
      ]
     },
     "metadata": {
      "needs_background": "light"
     },
     "output_type": "display_data"
    }
   ],
   "source": [
    "#Inspect the distribution of scores >6.0 in the dataset\n",
    "dfnew=df[df['Health Score']>6]\n",
    "dfnew.groupby('Quarter').size().plot()"
   ]
  },
  {
   "cell_type": "code",
   "execution_count": 19,
   "metadata": {},
   "outputs": [
    {
     "data": {
      "text/plain": [
       "Quarter\n",
       "2    1\n",
       "3    1\n",
       "4    2\n",
       "5    1\n",
       "6    1\n",
       "7    3\n",
       "8    1\n",
       "9    1\n",
       "dtype: int64"
      ]
     },
     "execution_count": 19,
     "metadata": {},
     "output_type": "execute_result"
    }
   ],
   "source": [
    "#Inspect the distribution of scores <1.0 in the dataset\n",
    "df[df['Health Score']<1].groupby('Quarter').size()"
   ]
  },
  {
   "cell_type": "code",
   "execution_count": null,
   "metadata": {},
   "outputs": [],
   "source": []
  }
 ],
 "metadata": {
  "kernelspec": {
   "display_name": "Python 3",
   "language": "python",
   "name": "python3"
  },
  "language_info": {
   "codemirror_mode": {
    "name": "ipython",
    "version": 3
   },
   "file_extension": ".py",
   "mimetype": "text/x-python",
   "name": "python",
   "nbconvert_exporter": "python",
   "pygments_lexer": "ipython3",
   "version": "3.8.3"
  }
 },
 "nbformat": 4,
 "nbformat_minor": 4
}
